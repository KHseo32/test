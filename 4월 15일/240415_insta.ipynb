{
 "cells": [
  {
   "cell_type": "code",
   "execution_count": 66,
   "metadata": {},
   "outputs": [],
   "source": [
    "from selenium import webdriver\n",
    "from selenium.webdriver.common.by import By\n",
    "from selenium.webdriver.common.keys import Keys\n",
    "import pandas as pd\n",
    "import time\n",
    "from bs4 import BeautifulSoup as bs\n",
    "import os\n",
    "from dotenv import load_dotenv"
   ]
  },
  {
   "cell_type": "code",
   "execution_count": 67,
   "metadata": {},
   "outputs": [],
   "source": [
    "driver = webdriver.Chrome()"
   ]
  },
  {
   "cell_type": "code",
   "execution_count": 68,
   "metadata": {},
   "outputs": [
    {
     "data": {
      "text/plain": [
       "True"
      ]
     },
     "execution_count": 68,
     "metadata": {},
     "output_type": "execute_result"
    }
   ],
   "source": [
    "load_dotenv()"
   ]
  },
  {
   "cell_type": "code",
   "execution_count": 69,
   "metadata": {},
   "outputs": [],
   "source": [
    "driver.get('https://www.instagram.com')\n",
    "driver.implicitly_wait(10)"
   ]
  },
  {
   "cell_type": "code",
   "execution_count": 70,
   "metadata": {},
   "outputs": [],
   "source": [
    "id_element = driver.find_element(\n",
    "    By.CSS_SELECTOR,\n",
    "    'input[name=\"username\"]'\n",
    ")\n",
    "id_element.send_keys(os.getenv('id'))\n",
    "\n",
    "pass_element = driver.find_element(\n",
    "    By.CSS_SELECTOR,\n",
    "    'input[name=\"password\"]'\n",
    ")\n",
    "pass_element.send_keys(os.getenv('password'))\n",
    "\n",
    "# time.sleep(2)\n",
    "# implicitly_wait() : html, css 정보가 로드 완료시까지만 대기/ 입력된 시간이 초과될 떄 로드가 전부 안 되어 있으면 error 발생\n",
    "driver.implicitly_wait(10)\n",
    "pass_element.send_keys(Keys.ENTER)"
   ]
  },
  {
   "cell_type": "code",
   "execution_count": 71,
   "metadata": {},
   "outputs": [],
   "source": [
    " # svg tag 중  aria-label='검색'인 tag 검색\n",
    "driver.implicitly_wait(10)\n",
    "search_element = driver.find_element(By.CSS_SELECTOR, 'svg[aria-label = \"검색\"]')\n",
    "search_element.click()\n",
    "\n",
    "driver.implicitly_wait(10)"
   ]
  },
  {
   "cell_type": "code",
   "execution_count": 72,
   "metadata": {},
   "outputs": [],
   "source": [
    "search_input = driver.find_element(By.CSS_SELECTOR,\n",
    "                                   'input[aria-label =\"입력 검색\"]')\n",
    "\n",
    "search_input.send_keys(\"구디맛집\")\n",
    "\n",
    "driver.implicitly_wait(10)"
   ]
  },
  {
   "cell_type": "code",
   "execution_count": 73,
   "metadata": {},
   "outputs": [
    {
     "name": "stdout",
     "output_type": "stream",
     "text": [
      "54\n"
     ]
    }
   ],
   "source": [
    "## 검색 리스트 전체를 검색\n",
    "list_elements = driver.find_elements(\n",
    "    By.CSS_SELECTOR,\n",
    "    '.x9f619.x78zum5.xdt5ytf.x1iyjqo2.x6ikm8r.x1odjw0f.xh8yej3.xocp1fn .x1i10hfl'\n",
    ")\n",
    "print(len(list_elements))\n",
    "## 리스트에서 첫 번째 클릭\n",
    "list_elements[0].click()"
   ]
  },
  {
   "cell_type": "code",
   "execution_count": 74,
   "metadata": {},
   "outputs": [],
   "source": [
    "## 게시글 링크를 모두 찾는다.\n",
    "imgs = driver.find_elements(\n",
    "    By.CLASS_NAME, '_aagw'\n",
    ")\n",
    "# 게시글의 첫 번째를 클릭\n",
    "imgs[0].click()"
   ]
  },
  {
   "cell_type": "code",
   "execution_count": 75,
   "metadata": {},
   "outputs": [],
   "source": [
    "\n",
    "ids = driver.find_elements(By.CLASS_NAME, '_a9zc')\n",
    "comments = driver.find_elements(By.CLASS_NAME, '_a9zs')\n"
   ]
  },
  {
   "cell_type": "code",
   "execution_count": 76,
   "metadata": {},
   "outputs": [],
   "source": [
    "# for id in ids:\n",
    "#     print(id.text)\n",
    "\n",
    "# for comment in comments:\n",
    "#     print(comment.text.replace('\\n', ' '))\n",
    "\n",
    "# for i in range(len(ids)):\n",
    "#     print(ids[i].text)\n",
    "#     print(comments[i].text.replace('\\n', ' '))\n",
    "data = {'ID': [], 'Comment': []}\n",
    "for id, comment in zip(ids, comments):\n",
    "#     print(id.text)\n",
    "#     print(comment.text.replace('\\n', ' '))\n",
    "    data['ID'].append(id.text)\n",
    "    data['Comment'].append(comment.text.replace('\\n', ' '))\n"
   ]
  },
  {
   "cell_type": "code",
   "execution_count": 77,
   "metadata": {},
   "outputs": [
    {
     "data": {
      "text/html": [
       "<div>\n",
       "<style scoped>\n",
       "    .dataframe tbody tr th:only-of-type {\n",
       "        vertical-align: middle;\n",
       "    }\n",
       "\n",
       "    .dataframe tbody tr th {\n",
       "        vertical-align: top;\n",
       "    }\n",
       "\n",
       "    .dataframe thead th {\n",
       "        text-align: right;\n",
       "    }\n",
       "</style>\n",
       "<table border=\"1\" class=\"dataframe\">\n",
       "  <thead>\n",
       "    <tr style=\"text-align: right;\">\n",
       "      <th></th>\n",
       "      <th>ID</th>\n",
       "      <th>Comment</th>\n",
       "    </tr>\n",
       "  </thead>\n",
       "  <tbody>\n",
       "    <tr>\n",
       "      <th>0</th>\n",
       "      <td>delln.gc</td>\n",
       "      <td>만화에서나 보던 포실포실 수프레를 이제 한국에서도 먹을 수 있다구?  #먹스타그램</td>\n",
       "    </tr>\n",
       "  </tbody>\n",
       "</table>\n",
       "</div>"
      ],
      "text/plain": [
       "         ID                                        Comment\n",
       "0  delln.gc  만화에서나 보던 포실포실 수프레를 이제 한국에서도 먹을 수 있다구?  #먹스타그램"
      ]
     },
     "execution_count": 77,
     "metadata": {},
     "output_type": "execute_result"
    }
   ],
   "source": [
    "df = pd.DataFrame(data)\n",
    "df"
   ]
  },
  {
   "cell_type": "code",
   "execution_count": 78,
   "metadata": {},
   "outputs": [],
   "source": [
    "next_element = driver.find_element(By. CSS_SELECTOR, '._aaqg ._abl-')\n",
    "\n",
    "next_element.click()"
   ]
  },
  {
   "cell_type": "code",
   "execution_count": 80,
   "metadata": {},
   "outputs": [
    {
     "data": {
      "text/html": [
       "<div>\n",
       "<style scoped>\n",
       "    .dataframe tbody tr th:only-of-type {\n",
       "        vertical-align: middle;\n",
       "    }\n",
       "\n",
       "    .dataframe tbody tr th {\n",
       "        vertical-align: top;\n",
       "    }\n",
       "\n",
       "    .dataframe thead th {\n",
       "        text-align: right;\n",
       "    }\n",
       "</style>\n",
       "<table border=\"1\" class=\"dataframe\">\n",
       "  <thead>\n",
       "    <tr style=\"text-align: right;\">\n",
       "      <th></th>\n",
       "      <th>ID</th>\n",
       "      <th>Comment</th>\n",
       "    </tr>\n",
       "  </thead>\n",
       "  <tbody>\n",
       "    <tr>\n",
       "      <th>0</th>\n",
       "      <td>noriter486</td>\n",
       "      <td>오랜만에 소식을 전하네요~😆  봄 맞이 신메뉴가 등장 했슴돠~두둥두둥💢💥  고객님들...</td>\n",
       "    </tr>\n",
       "    <tr>\n",
       "      <th>1</th>\n",
       "      <td>noriter486_zzang</td>\n",
       "      <td>👏👏👏👏👏</td>\n",
       "    </tr>\n",
       "    <tr>\n",
       "      <th>2</th>\n",
       "      <td>noriter486</td>\n",
       "      <td>👏👏👏👏</td>\n",
       "    </tr>\n",
       "    <tr>\n",
       "      <th>3</th>\n",
       "      <td>noriter486</td>\n",
       "      <td>매장 먼지 테러로 인한 심각한 피해 상황 ㅡㅡ 옆매장 공사로 인한 강제 문닫음 ㅠㅠ...</td>\n",
       "    </tr>\n",
       "    <tr>\n",
       "      <th>4</th>\n",
       "      <td>noriter486_zzang</td>\n",
       "      <td>#다이슨#다이슨팝업 @dyson_kr #createwithdyson 체험</td>\n",
       "    </tr>\n",
       "  </tbody>\n",
       "</table>\n",
       "</div>"
      ],
      "text/plain": [
       "                 ID                                            Comment\n",
       "0        noriter486  오랜만에 소식을 전하네요~😆  봄 맞이 신메뉴가 등장 했슴돠~두둥두둥💢💥  고객님들...\n",
       "1  noriter486_zzang                                              👏👏👏👏👏\n",
       "2        noriter486                                               👏👏👏👏\n",
       "3        noriter486  매장 먼지 테러로 인한 심각한 피해 상황 ㅡㅡ 옆매장 공사로 인한 강제 문닫음 ㅠㅠ...\n",
       "4  noriter486_zzang           #다이슨#다이슨팝업 @dyson_kr #createwithdyson 체험"
      ]
     },
     "execution_count": 80,
     "metadata": {},
     "output_type": "execute_result"
    }
   ],
   "source": [
    "data = {'ID': [], 'Comment': []}\n",
    "for i in range(3):\n",
    "    try: \n",
    "        driver.implicitly_wait(10)\n",
    "        # ids = driver.find_elements(By.CLASS_NAME, '_a9zc')\n",
    "        # comments = driver.find_elements(By.CLASS_NAME, '_a9zs')\n",
    "        ids = driver.find_elements(By.CLASS_NAME, '_a9zc')\n",
    "        comments = driver.find_elements(By.CLASS_NAME, '_a9zs')\n",
    "        for id, comment in zip(ids, comments):  \n",
    "            data['ID'].append(id.text)\n",
    "            data['Comment'].append(comment.text.replace('\\n', ' '))\n",
    "        next_element = driver.find_element(By.CSS_SELECTOR, '._aaqg ._abl-')\n",
    "        next_element.click()\n",
    "    except:\n",
    "        print('다음 버튼이 존재하지 않거나 에러 발생:')\n",
    "\n",
    "# 게시물 닫아주기\n",
    "close_element = driver.find_element(By.CSS_SELECTOR, 'svg[aria-label=\"닫기\"]')\n",
    "close_element.click()\n",
    "\n",
    "df = pd.DataFrame(data)\n",
    "df\n"
   ]
  },
  {
   "cell_type": "markdown",
   "metadata": {},
   "source": []
  }
 ],
 "metadata": {
  "kernelspec": {
   "display_name": "Python 3",
   "language": "python",
   "name": "python3"
  },
  "language_info": {
   "codemirror_mode": {
    "name": "ipython",
    "version": 3
   },
   "file_extension": ".py",
   "mimetype": "text/x-python",
   "name": "python",
   "nbconvert_exporter": "python",
   "pygments_lexer": "ipython3",
   "version": "3.12.2"
  }
 },
 "nbformat": 4,
 "nbformat_minor": 2
}
