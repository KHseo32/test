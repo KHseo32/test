{
 "cells": [
  {
   "cell_type": "code",
   "execution_count": 30,
   "metadata": {},
   "outputs": [],
   "source": [
    "from selenium import webdriver\n",
    "from selenium.webdriver.common.by import By\n",
    "from selenium.webdriver.common.keys import Keys\n",
    "import pandas as pd\n",
    "import time\n",
    "from bs4 import BeautifulSoup as bs\n",
    "import os\n",
    "from dotenv import load_dotenv"
   ]
  },
  {
   "cell_type": "code",
   "execution_count": 31,
   "metadata": {},
   "outputs": [],
   "source": [
    "driver = webdriver.Chrome()"
   ]
  },
  {
   "cell_type": "code",
   "execution_count": 32,
   "metadata": {},
   "outputs": [
    {
     "data": {
      "text/plain": [
       "True"
      ]
     },
     "execution_count": 32,
     "metadata": {},
     "output_type": "execute_result"
    }
   ],
   "source": [
    "load_dotenv()"
   ]
  },
  {
   "cell_type": "code",
   "execution_count": 33,
   "metadata": {},
   "outputs": [],
   "source": [
    "driver.get('https://www.instagram.com')\n",
    "driver.implicitly_wait(10)"
   ]
  },
  {
   "cell_type": "code",
   "execution_count": 35,
   "metadata": {},
   "outputs": [],
   "source": [
    "id_element = driver.find_element(\n",
    "    By.CSS_SELECTOR,\n",
    "    'input[name=\"username\"]'\n",
    ")\n",
    "id_element.send_keys(os.getenv('id'))\n",
    "\n",
    "pass_element = driver.find_element(\n",
    "    By.CSS_SELECTOR,\n",
    "    'input[name=\"password\"]'\n",
    ")\n",
    "pass_element.send_keys(os.getenv('password'))\n",
    "\n",
    "# time.sleep(2)\n",
    "# implicitly_wait() : html, css 정보가 로드 완료시까지만 대기/ 입력된 시간이 초과될 떄 로드가 전부 안 되어 있으면 error 발생\n",
    "driver.implicitly_wait(10)\n",
    "pass_element.send_keys(Keys.ENTER)"
   ]
  },
  {
   "cell_type": "code",
   "execution_count": 36,
   "metadata": {},
   "outputs": [],
   "source": [
    " # svg tag 중  aria-label='검색'인 tag 검색\n",
    "driver.implicitly_wait(10)\n",
    "search_element = driver.find_element(By.CSS_SELECTOR, 'svg[aria-label = \"검색\"]')\n",
    "search_element.click()\n",
    "\n",
    "driver.implicitly_wait(10)"
   ]
  },
  {
   "cell_type": "code",
   "execution_count": 37,
   "metadata": {},
   "outputs": [],
   "source": [
    "search_input = driver.find_element(By.CSS_SELECTOR,\n",
    "                                   'input[aria-label =\"입력 검색\"]')\n",
    "\n",
    "search_input.send_keys(\"구디맛집\")\n",
    "\n",
    "driver.implicitly_wait(10)"
   ]
  },
  {
   "cell_type": "code",
   "execution_count": 38,
   "metadata": {},
   "outputs": [
    {
     "name": "stdout",
     "output_type": "stream",
     "text": [
      "54\n"
     ]
    }
   ],
   "source": [
    "## 검색 리스트 전체를 검색\n",
    "list_elements = driver.find_elements(\n",
    "    By.CSS_SELECTOR,\n",
    "    '.x9f619.x78zum5.xdt5ytf.x1iyjqo2.x6ikm8r.x1odjw0f.xh8yej3.xocp1fn .x1i10hfl'\n",
    ")\n",
    "print(len(list_elements))\n",
    "## 리스트에서 첫 번째 클릭\n",
    "list_elements[0].click()"
   ]
  },
  {
   "cell_type": "code",
   "execution_count": 39,
   "metadata": {},
   "outputs": [],
   "source": [
    "## 게시글 링크를 모두 찾는다.\n",
    "imgs = driver.find_elements(\n",
    "    By.CLASS_NAME, '_aagw'\n",
    ")\n",
    "# 게시글의 첫 번째를 클릭\n",
    "imgs[0].click()"
   ]
  },
  {
   "cell_type": "code",
   "execution_count": 48,
   "metadata": {},
   "outputs": [],
   "source": [
    "\n",
    "ids = driver.find_elements(By.CLASS_NAME, '_a9zc')\n",
    "comments = driver.find_elements(By.CLASS_NAME, '_a9zs')\n"
   ]
  },
  {
   "cell_type": "code",
   "execution_count": 57,
   "metadata": {},
   "outputs": [],
   "source": [
    "# for id in ids:\n",
    "#     print(id.text)\n",
    "\n",
    "# for comment in comments:\n",
    "#     print(comment.text.replace('\\n', ' '))\n",
    "\n",
    "# for i in range(len(ids)):\n",
    "#     print(ids[i].text)\n",
    "#     print(comments[i].text.replace('\\n', ' '))\n",
    "data = {'ID': [], 'Comments': []}\n",
    "for id, comment in zip(ids, comments):\n",
    "#     print(id.text)\n",
    "#     print(comment.text.replace('\\n', ' '))\n",
    "    data['ID'].append(id.text)\n",
    "    data['Comments'].append(comment.text.replace('\\n', ' '))\n"
   ]
  },
  {
   "cell_type": "code",
   "execution_count": 59,
   "metadata": {},
   "outputs": [
    {
     "data": {
      "text/html": [
       "<div>\n",
       "<style scoped>\n",
       "    .dataframe tbody tr th:only-of-type {\n",
       "        vertical-align: middle;\n",
       "    }\n",
       "\n",
       "    .dataframe tbody tr th {\n",
       "        vertical-align: top;\n",
       "    }\n",
       "\n",
       "    .dataframe thead th {\n",
       "        text-align: right;\n",
       "    }\n",
       "</style>\n",
       "<table border=\"1\" class=\"dataframe\">\n",
       "  <thead>\n",
       "    <tr style=\"text-align: right;\">\n",
       "      <th></th>\n",
       "      <th>ID</th>\n",
       "      <th>Comments</th>\n",
       "    </tr>\n",
       "  </thead>\n",
       "  <tbody>\n",
       "    <tr>\n",
       "      <th>0</th>\n",
       "      <td>noriter486</td>\n",
       "      <td>오랜만에 소식을 전하네요~😆  봄 맞이 신메뉴가 등장 했슴돠~두둥두둥💢💥  고객님들...</td>\n",
       "    </tr>\n",
       "    <tr>\n",
       "      <th>1</th>\n",
       "      <td>noriter486_zzang</td>\n",
       "      <td>👏👏👏👏👏</td>\n",
       "    </tr>\n",
       "    <tr>\n",
       "      <th>2</th>\n",
       "      <td>noriter486</td>\n",
       "      <td>👏👏👏👏</td>\n",
       "    </tr>\n",
       "  </tbody>\n",
       "</table>\n",
       "</div>"
      ],
      "text/plain": [
       "                 ID                                           Comments\n",
       "0        noriter486  오랜만에 소식을 전하네요~😆  봄 맞이 신메뉴가 등장 했슴돠~두둥두둥💢💥  고객님들...\n",
       "1  noriter486_zzang                                              👏👏👏👏👏\n",
       "2        noriter486                                               👏👏👏👏"
      ]
     },
     "execution_count": 59,
     "metadata": {},
     "output_type": "execute_result"
    }
   ],
   "source": [
    "df = pd.DataFrame(data)\n",
    "df"
   ]
  }
 ],
 "metadata": {
  "kernelspec": {
   "display_name": "Python 3",
   "language": "python",
   "name": "python3"
  },
  "language_info": {
   "codemirror_mode": {
    "name": "ipython",
    "version": 3
   },
   "file_extension": ".py",
   "mimetype": "text/x-python",
   "name": "python",
   "nbconvert_exporter": "python",
   "pygments_lexer": "ipython3",
   "version": "3.12.2"
  }
 },
 "nbformat": 4,
 "nbformat_minor": 2
}
