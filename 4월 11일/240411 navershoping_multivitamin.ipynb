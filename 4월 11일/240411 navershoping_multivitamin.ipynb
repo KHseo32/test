{
 "cells": [
  {
   "cell_type": "markdown",
   "metadata": {},
   "source": [
    "### 복습\n",
    "1. response3  데이터를 문자열로 저장\n",
    "2. 문자열로 저장된 데이터를 BeautifulSoup를 이용하여 parsing\n",
    "3. div 중 id가 content인 태그 추출\n",
    "4. 3번에서 추출된 tag에서 div 중 class가 today_section인 태그 추출\n",
    "5. 헤드라인만 추출하여 리스트로 생성"
   ]
  },
  {
   "cell_type": "code",
   "execution_count": 12,
   "metadata": {},
   "outputs": [],
   "source": [
    "import requests\n",
    "\n",
    "import pandas as pd\n",
    "\n",
    "from bs4 import BeautifulSoup as bs\n",
    "\n",
    "import pprint"
   ]
  },
  {
   "cell_type": "code",
   "execution_count": 13,
   "metadata": {},
   "outputs": [],
   "source": [
    "url = 'https://sports.news.naver.com/index'\n",
    "\n",
    "response = requests.get(url)"
   ]
  },
  {
   "cell_type": "code",
   "execution_count": 14,
   "metadata": {},
   "outputs": [],
   "source": [
    "html_data = response.text"
   ]
  },
  {
   "cell_type": "code",
   "execution_count": null,
   "metadata": {},
   "outputs": [],
   "source": [
    "soup = bs(html_data,'html.parser')\n",
    "\n",
    "soup"
   ]
  },
  {
   "cell_type": "code",
   "execution_count": 16,
   "metadata": {},
   "outputs": [
    {
     "data": {
      "text/plain": [
       "1"
      ]
     },
     "execution_count": 16,
     "metadata": {},
     "output_type": "execute_result"
    }
   ],
   "source": [
    "len(\n",
    "    soup.find_all('div', attrs={\n",
    "        'class' : 'today_section'\n",
    "    })\n",
    ")"
   ]
  },
  {
   "cell_type": "code",
   "execution_count": null,
   "metadata": {},
   "outputs": [],
   "source": [
    "div_sport = soup.find('div', attrs={\n",
    "    'class' : 'today_section'\n",
    "})\n",
    "\n",
    "div_sport"
   ]
  },
  {
   "cell_type": "code",
   "execution_count": 20,
   "metadata": {},
   "outputs": [],
   "source": [
    "titles = div_sport.find_all('strong')"
   ]
  },
  {
   "cell_type": "code",
   "execution_count": 21,
   "metadata": {},
   "outputs": [
    {
     "data": {
      "text/plain": [
       "[<strong class=\"title\">'낮에 2군 경기→밤에 1군 경기' 추신수, 전격 콜업→3번 지명타자…최정, 감기 몸살 '제외'</strong>,\n",
       " <strong class=\"title\">'주전→벤치' 김민재 미스터리 밝혀졌다 \"투헬이 싫어해, 이적 가능성 높다\"</strong>,\n",
       " <strong class=\"title\">'이 정도면 인정' 김재환까지 부활! \"강정호 너무 고맙다\" 양의지도 놀란 '킹캉스쿨 효과'</strong>,\n",
       " <strong class=\"title\">오타니 통장 흔든 '불법 도박 논란' 미즈하라, 사전형량 조정 협상 중</strong>,\n",
       " <strong class=\"title\">쇼트트랙 황대헌, 500m 결승서 또 실격… 장성우 우승·박지원 준준결승서 탈락</strong>,\n",
       " <strong class=\"title\">손흥민, 뉴캐슬전서 4위 수성+10골-10도움 클럽 두 마리 토끼 노린다</strong>]"
      ]
     },
     "execution_count": 21,
     "metadata": {},
     "output_type": "execute_result"
    }
   ],
   "source": [
    "titles"
   ]
  },
  {
   "cell_type": "code",
   "execution_count": 22,
   "metadata": {},
   "outputs": [],
   "source": [
    "_titles = titles[0]"
   ]
  },
  {
   "cell_type": "code",
   "execution_count": 23,
   "metadata": {},
   "outputs": [
    {
     "data": {
      "text/plain": [
       "<strong class=\"title\">'낮에 2군 경기→밤에 1군 경기' 추신수, 전격 콜업→3번 지명타자…최정, 감기 몸살 '제외'</strong>"
      ]
     },
     "execution_count": 23,
     "metadata": {},
     "output_type": "execute_result"
    }
   ],
   "source": [
    "_titles"
   ]
  },
  {
   "cell_type": "code",
   "execution_count": 26,
   "metadata": {},
   "outputs": [
    {
     "data": {
      "text/plain": [
       "[\"'낮에 2군 경기→밤에 1군 경기' 추신수, 전격 콜업→3번 지명타자…최정, 감기 몸살 '제외'\",\n",
       " '\\'주전→벤치\\' 김민재 미스터리 밝혀졌다 \"투헬이 싫어해, 이적 가능성 높다\"',\n",
       " '\\'이 정도면 인정\\' 김재환까지 부활! \"강정호 너무 고맙다\" 양의지도 놀란 \\'킹캉스쿨 효과\\'',\n",
       " \"오타니 통장 흔든 '불법 도박 논란' 미즈하라, 사전형량 조정 협상 중\",\n",
       " '쇼트트랙 황대헌, 500m 결승서 또 실격… 장성우 우승·박지원 준준결승서 탈락',\n",
       " '손흥민, 뉴캐슬전서 4위 수성+10골-10도움 클럽 두 마리 토끼 노린다']"
      ]
     },
     "execution_count": 26,
     "metadata": {},
     "output_type": "execute_result"
    }
   ],
   "source": [
    "titles_list = []\n",
    "\n",
    "for tag in titles:\n",
    "    titles_list.append(tag.get_text())\n",
    "\n",
    "titles_list"
   ]
  },
  {
   "cell_type": "code",
   "execution_count": null,
   "metadata": {},
   "outputs": [],
   "source": []
  }
 ],
 "metadata": {
  "kernelspec": {
   "display_name": "Python 3",
   "language": "python",
   "name": "python3"
  },
  "language_info": {
   "codemirror_mode": {
    "name": "ipython",
    "version": 3
   },
   "file_extension": ".py",
   "mimetype": "text/x-python",
   "name": "python",
   "nbconvert_exporter": "python",
   "pygments_lexer": "ipython3",
   "version": "3.12.2"
  }
 },
 "nbformat": 4,
 "nbformat_minor": 2
}
