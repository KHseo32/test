{
 "cells": [
  {
   "cell_type": "code",
   "execution_count": null,
   "metadata": {},
   "outputs": [],
   "source": [
    "import googleapiclient.discovery\n",
    "\n",
    "# Initialize the YouTube API client\n",
    "youtube = googleapiclient.discovery.build(\"youtube\", \"v3\", developerKey=\"YOUR_API_KEY\")\n",
    "\n",
    "# Specify the comment ID you want to delete\n",
    "comment_id = \"YOUR_COMMENT_ID\"\n",
    "\n",
    "# Delete the comment\n",
    "youtube.comments().delete(id=comment_id).execute()\n"
   ]
  }
 ],
 "metadata": {
  "language_info": {
   "name": "python"
  }
 },
 "nbformat": 4,
 "nbformat_minor": 2
}
