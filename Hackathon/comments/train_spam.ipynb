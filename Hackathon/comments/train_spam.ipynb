{
 "cells": [
  {
   "cell_type": "code",
   "execution_count": 2,
   "metadata": {},
   "outputs": [],
   "source": [
    "import pandas as pd"
   ]
  },
  {
   "cell_type": "code",
   "execution_count": 1,
   "metadata": {},
   "outputs": [],
   "source": [
    "from sklearn.feature_extraction.text import CountVectorizer\n",
    "from sklearn.linear_model import LogisticRegression\n"
   ]
  },
  {
   "cell_type": "code",
   "execution_count": 3,
   "metadata": {},
   "outputs": [],
   "source": [
    "IT = pd.read_excel('./Data/IT기기.xlsx')\n",
    "\n",
    "IT_label = pd.read_json('./Data/컴퓨터주변기기(151).json')"
   ]
  },
  {
   "cell_type": "code",
   "execution_count": 15,
   "metadata": {},
   "outputs": [],
   "source": [
    "wooki_comment = pd.read_excel('./wookiPOP_결국폭발해버린드레이크_comments.xlsx')\n"
   ]
  },
  {
   "cell_type": "code",
   "execution_count": 16,
   "metadata": {},
   "outputs": [
    {
     "data": {
      "text/html": [
       "<div>\n",
       "<style scoped>\n",
       "    .dataframe tbody tr th:only-of-type {\n",
       "        vertical-align: middle;\n",
       "    }\n",
       "\n",
       "    .dataframe tbody tr th {\n",
       "        vertical-align: top;\n",
       "    }\n",
       "\n",
       "    .dataframe thead th {\n",
       "        text-align: right;\n",
       "    }\n",
       "</style>\n",
       "<table border=\"1\" class=\"dataframe\">\n",
       "  <thead>\n",
       "    <tr style=\"text-align: right;\">\n",
       "      <th></th>\n",
       "      <th>comment</th>\n",
       "      <th>author</th>\n",
       "      <th>date</th>\n",
       "      <th>num_likes</th>\n",
       "      <th>comment_type</th>\n",
       "      <th>labels</th>\n",
       "    </tr>\n",
       "  </thead>\n",
       "  <tbody>\n",
       "    <tr>\n",
       "      <th>0</th>\n",
       "      <td>팬들 몰래 파트너 만나는 여컘임_x000D_&lt;br&gt;🔚특이성향까지 들켰어😡_x000D...</td>\n",
       "      <td>@StefDeicke</td>\n",
       "      <td>2024-04-17T04:37:21Z</td>\n",
       "      <td>0</td>\n",
       "      <td>Reply</td>\n",
       "      <td>1</td>\n",
       "    </tr>\n",
       "    <tr>\n",
       "      <th>1</th>\n",
       "      <td>팬들 몰래 파트너 만나는 여컘임_x000D_&lt;br&gt;🔚특이성향까지 들켰어😡_x000D...</td>\n",
       "      <td>@StefDeicke</td>\n",
       "      <td>2024-04-17T04:37:25Z</td>\n",
       "      <td>0</td>\n",
       "      <td>Reply</td>\n",
       "      <td>1</td>\n",
       "    </tr>\n",
       "    <tr>\n",
       "      <th>2</th>\n",
       "      <td>팬들 몰래 파트너 만나는 여컘임_x000D_&lt;br&gt;🔚특이성향까지 들켰어😡_x000D...</td>\n",
       "      <td>@StefDeicke</td>\n",
       "      <td>2024-04-17T04:37:28Z</td>\n",
       "      <td>0</td>\n",
       "      <td>Reply</td>\n",
       "      <td>1</td>\n",
       "    </tr>\n",
       "    <tr>\n",
       "      <th>3</th>\n",
       "      <td>팬들 몰래 파트너 만나는 여컘임_x000D_&lt;br&gt;🔚특이성향까지 들켰어😡_x000D...</td>\n",
       "      <td>@StefDeicke</td>\n",
       "      <td>2024-04-17T04:37:27Z</td>\n",
       "      <td>0</td>\n",
       "      <td>Reply</td>\n",
       "      <td>1</td>\n",
       "    </tr>\n",
       "    <tr>\n",
       "      <th>4</th>\n",
       "      <td>팬들 몰래 파트너 만나는 여컘임_x000D_&lt;br&gt;🔚특이성향까지 들켰어😡_x000D...</td>\n",
       "      <td>@StefDeicke</td>\n",
       "      <td>2024-04-17T04:37:24Z</td>\n",
       "      <td>0</td>\n",
       "      <td>Reply</td>\n",
       "      <td>1</td>\n",
       "    </tr>\n",
       "  </tbody>\n",
       "</table>\n",
       "</div>"
      ],
      "text/plain": [
       "                                             comment       author  \\\n",
       "0  팬들 몰래 파트너 만나는 여컘임_x000D_<br>🔚특이성향까지 들켰어😡_x000D...  @StefDeicke   \n",
       "1  팬들 몰래 파트너 만나는 여컘임_x000D_<br>🔚특이성향까지 들켰어😡_x000D...  @StefDeicke   \n",
       "2  팬들 몰래 파트너 만나는 여컘임_x000D_<br>🔚특이성향까지 들켰어😡_x000D...  @StefDeicke   \n",
       "3  팬들 몰래 파트너 만나는 여컘임_x000D_<br>🔚특이성향까지 들켰어😡_x000D...  @StefDeicke   \n",
       "4  팬들 몰래 파트너 만나는 여컘임_x000D_<br>🔚특이성향까지 들켰어😡_x000D...  @StefDeicke   \n",
       "\n",
       "                   date num_likes comment_type  labels  \n",
       "0  2024-04-17T04:37:21Z         0        Reply       1  \n",
       "1  2024-04-17T04:37:25Z         0        Reply       1  \n",
       "2  2024-04-17T04:37:28Z         0        Reply       1  \n",
       "3  2024-04-17T04:37:27Z         0        Reply       1  \n",
       "4  2024-04-17T04:37:24Z         0        Reply       1  "
      ]
     },
     "execution_count": 16,
     "metadata": {},
     "output_type": "execute_result"
    }
   ],
   "source": [
    "wooki_comment.head()"
   ]
  },
  {
   "cell_type": "code",
   "execution_count": null,
   "metadata": {},
   "outputs": [],
   "source": [
    "IT_label.head(1)"
   ]
  },
  {
   "cell_type": "code",
   "execution_count": null,
   "metadata": {},
   "outputs": [],
   "source": [
    "vectorizer = CountVectorizer()\n",
    "X = vectorizer.fit_transform(wooki_comment)\n",
    "\n",
    "\n",
    "model = LogisticRegression()\n",
    "model.fit(X, IT_label)\n",
    "\n",
    "def is_spam(comment):\n",
    "    comment_vector = vectorizer.transform([comment])\n",
    "    prediction = model.predict(comment_vector)\n",
    "    return \"광고\" if prediction[0] == 1 else \"광고 아님\"\n"
   ]
  },
  {
   "cell_type": "code",
   "execution_count": null,
   "metadata": {},
   "outputs": [],
   "source": [
    "\n",
    "# 테스트\n",
    "test_comments = [\n",
    "    \"Check this amazing new product www.newproduct.com\",\n",
    "    \"Really love your videos, keep it up!\"\n",
    "]\n",
    "\n",
    "for comment in test_comments:\n",
    "    print(f\"댓글: '{comment}' - {is_spam(comment)}\")\n"
   ]
  },
  {
   "cell_type": "code",
   "execution_count": 18,
   "metadata": {},
   "outputs": [],
   "source": [
    "import pandas as pd\n",
    "from sklearn.feature_extraction.text import CountVectorizer\n",
    "from sklearn.linear_model import LogisticRegression\n",
    "\n",
    "# Read the data from Excel file\n",
    "wooki_comment = pd.read_excel('./wookiPOP_결국폭발해버린드레이크_comments.xlsx')\n",
    "\n",
    "# Extract the comment and label columns\n",
    "comments = wooki_comment['comment'].tolist()\n",
    "labels = wooki_comment['labels'].tolist()\n",
    "\n",
    "# Initialize CountVectorizer\n",
    "vectorizer = CountVectorizer()\n",
    "\n",
    "# Convert comments into a matrix of token counts\n",
    "X = vectorizer.fit_transform(comments)\n",
    "\n",
    "# Initialize Logistic Regression model\n",
    "model = LogisticRegression()\n",
    "\n",
    "# Train the model\n",
    "model.fit(X, labels)\n",
    "\n",
    "# Define function to classify comments\n",
    "def is_spam(comment):\n",
    "    comment_vector = vectorizer.transform([comment])\n",
    "    prediction = model.predict(comment_vector)\n",
    "    return \"광고\" if prediction[0] == 1 else \"광고 아님\"\n"
   ]
  },
  {
   "cell_type": "code",
   "execution_count": 22,
   "metadata": {},
   "outputs": [
    {
     "name": "stdout",
     "output_type": "stream",
     "text": [
      "댓글: '팬들 몰래 파트너 만나는 여컘임<br>🔚특이성향까지 들켰어😡<br>여기는 몰래 회원제로만 운영됨' - 광고\n",
      "댓글: 'Really love your videos, keep it up!' - 광고 아님\n"
     ]
    }
   ],
   "source": [
    "\n",
    "# Test\n",
    "test_comments = [\n",
    "'팬들 몰래 파트너 만나는 여컘임<br>🔚특이성향까지 들켰어😡<br>여기는 몰래 회원제로만 운영됨',    \"Really love your videos, keep it up!\"\n",
    "]\n",
    "\n",
    "for comment in test_comments:\n",
    "    print(f\"댓글: '{comment}' - {is_spam(comment)}\")"
   ]
  }
 ],
 "metadata": {
  "kernelspec": {
   "display_name": "Python 3",
   "language": "python",
   "name": "python3"
  },
  "language_info": {
   "codemirror_mode": {
    "name": "ipython",
    "version": 3
   },
   "file_extension": ".py",
   "mimetype": "text/x-python",
   "name": "python",
   "nbconvert_exporter": "python",
   "pygments_lexer": "ipython3",
   "version": "3.12.2"
  }
 },
 "nbformat": 4,
 "nbformat_minor": 2
}
