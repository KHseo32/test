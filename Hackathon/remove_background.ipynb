{
 "cells": [
  {
   "cell_type": "code",
   "execution_count": 2,
   "metadata": {},
   "outputs": [
    {
     "name": "stdout",
     "output_type": "stream",
     "text": [
      "Collecting opencv-python\n",
      "  Downloading opencv_python-4.9.0.80-cp37-abi3-win_amd64.whl.metadata (20 kB)\n",
      "Requirement already satisfied: numpy>=1.21.2 in c:\\users\\skh13\\appdata\\local\\programs\\python\\python312\\lib\\site-packages (from opencv-python) (1.26.4)\n",
      "Downloading opencv_python-4.9.0.80-cp37-abi3-win_amd64.whl (38.6 MB)\n",
      "   ---------------------------------------- 0.0/38.6 MB ? eta -:--:--\n",
      "   ---------------------------------------- 0.0/38.6 MB 1.4 MB/s eta 0:00:29\n",
      "   - -------------------------------------- 1.7/38.6 MB 18.3 MB/s eta 0:00:03\n",
      "   --- ------------------------------------ 3.7/38.6 MB 29.3 MB/s eta 0:00:02\n",
      "   ------- -------------------------------- 7.4/38.6 MB 43.4 MB/s eta 0:00:01\n",
      "   ----------- ---------------------------- 10.8/38.6 MB 59.5 MB/s eta 0:00:01\n",
      "   -------------- ------------------------- 13.7/38.6 MB 73.1 MB/s eta 0:00:01\n",
      "   --------------- ------------------------ 15.1/38.6 MB 65.6 MB/s eta 0:00:01\n",
      "   ---------------- ----------------------- 16.2/38.6 MB 50.4 MB/s eta 0:00:01\n",
      "   ------------------- -------------------- 18.7/38.6 MB 43.7 MB/s eta 0:00:01\n",
      "   -------------------- ------------------- 20.1/38.6 MB 43.5 MB/s eta 0:00:01\n",
      "   ---------------------- ----------------- 21.4/38.6 MB 38.5 MB/s eta 0:00:01\n",
      "   ------------------------ --------------- 23.6/38.6 MB 38.5 MB/s eta 0:00:01\n",
      "   --------------------------- ------------ 26.5/38.6 MB 50.4 MB/s eta 0:00:01\n",
      "   ------------------------------ --------- 29.8/38.6 MB 54.4 MB/s eta 0:00:01\n",
      "   ------------------------------- -------- 30.4/38.6 MB 59.5 MB/s eta 0:00:01\n",
      "   ------------------------------- -------- 30.4/38.6 MB 59.5 MB/s eta 0:00:01\n",
      "   ------------------------------- -------- 30.4/38.6 MB 59.5 MB/s eta 0:00:01\n",
      "   -------------------------------- ------- 31.5/38.6 MB 34.6 MB/s eta 0:00:01\n",
      "   ------------------------------------ --- 35.1/38.6 MB 36.4 MB/s eta 0:00:01\n",
      "   ---------------------------------------  38.2/38.6 MB 36.4 MB/s eta 0:00:01\n",
      "   ---------------------------------------  38.6/38.6 MB 34.4 MB/s eta 0:00:01\n",
      "   ---------------------------------------  38.6/38.6 MB 34.4 MB/s eta 0:00:01\n",
      "   ---------------------------------------  38.6/38.6 MB 34.4 MB/s eta 0:00:01\n",
      "   ---------------------------------------  38.6/38.6 MB 34.4 MB/s eta 0:00:01\n",
      "   ---------------------------------------- 38.6/38.6 MB 21.8 MB/s eta 0:00:00\n",
      "Installing collected packages: opencv-python\n",
      "Successfully installed opencv-python-4.9.0.80\n"
     ]
    }
   ],
   "source": [
    "# !pip install opencv-python"
   ]
  },
  {
   "cell_type": "code",
   "execution_count": 3,
   "metadata": {},
   "outputs": [],
   "source": [
    "import cv2\n",
    "import numpy as np"
   ]
  },
  {
   "cell_type": "code",
   "execution_count": 6,
   "metadata": {},
   "outputs": [
    {
     "data": {
      "text/plain": [
       "True"
      ]
     },
     "execution_count": 6,
     "metadata": {},
     "output_type": "execute_result"
    }
   ],
   "source": [
    "import cv2\n",
    "import numpy as np\n",
    "\n",
    "img = cv2.imread('./thumbnails/thumbnail_page_1_4.png')\n",
    "img_500x500 = cv2.resize(img, (500,500))\n",
    "\n",
    "mask = np.zeros(img_500x500.shape[:2], np.uint8)\n",
    "\n",
    "bgdModel = np.zeros((1, 65), np.float64)\n",
    "fgdModel = np.zeros((1, 65), np.float64)\n",
    "\n",
    "rect = (1, 1, 498, 498)\n",
    "cv2.grabCut(img_500x500, mask, rect, bgdModel, fgdModel, 3, cv2.GC_INIT_WITH_RECT)\n",
    "\n",
    "mask2 = np.where((mask==1) + (mask == 3), 255, 0).astype(np.uint8)\n",
    "output = cv2.bitwise_and(img_500x500, img_500x500, mask=mask2)\n",
    "\n",
    "tmp = cv2.cvtColor(output, cv2.COLOR_BGR2GRAY)\n",
    "_, alpha = cv2.threshold(tmp, 0, 255, cv2.THRESH_BINARY)\n",
    "b, g, r = cv2.split(output)\n",
    "rgba = [b,g,r, alpha]\n",
    "removeimg=cv2.merge(rgba, 4)\n",
    "\n",
    "cv2.imwrite(\"output8.png\", removeimg)\n"
   ]
  },
  {
   "cell_type": "code",
   "execution_count": 7,
   "metadata": {},
   "outputs": [],
   "source": [
    "import cv2\n",
    "import numpy as np\n",
    "import os\n",
    "\n",
    "# Function to process each image\n",
    "def process_image(image_path):\n",
    "    img = cv2.imread(image_path)\n",
    "    img_500x500 = cv2.resize(img, (500,500))\n",
    "\n",
    "    mask = np.zeros(img_500x500.shape[:2], np.uint8)\n",
    "    bgdModel = np.zeros((1, 65), np.float64)\n",
    "    fgdModel = np.zeros((1, 65), np.float64)\n",
    "    rect = (1, 1, 498, 498)\n",
    "\n",
    "    cv2.grabCut(img_500x500, mask, rect, bgdModel, fgdModel, 3, cv2.GC_INIT_WITH_RECT)\n",
    "    mask2 = np.where((mask==1) + (mask == 3), 255, 0).astype(np.uint8)\n",
    "    output = cv2.bitwise_and(img_500x500, img_500x500, mask=mask2)\n",
    "\n",
    "    tmp = cv2.cvtColor(output, cv2.COLOR_BGR2GRAY)\n",
    "    _, alpha = cv2.threshold(tmp, 0, 255, cv2.THRESH_BINARY)\n",
    "    b, g, r = cv2.split(output)\n",
    "    rgba = [b,g,r, alpha]\n",
    "    removeimg=cv2.merge(rgba, 4)\n",
    "\n",
    "    return removeimg\n",
    "\n",
    "# Create output directory if it doesn't exist\n",
    "output_dir = './thumbnails_removed'\n",
    "if not os.path.exists(output_dir):\n",
    "    os.makedirs(output_dir)\n",
    "\n",
    "# Loop through all PNG files in ./thumbnails directory\n",
    "input_dir = './thumbnails'\n",
    "for filename in os.listdir(input_dir):\n",
    "    if filename.endswith('.png'):\n",
    "        input_path = os.path.join(input_dir, filename)\n",
    "        \n",
    "        # Rename the removed image\n",
    "        output_filename = 'removed_' + filename\n",
    "        \n",
    "        output_path = os.path.join(output_dir, output_filename)\n",
    "        processed_img = process_image(input_path)\n",
    "        cv2.imwrite(output_path, processed_img)\n"
   ]
  }
 ],
 "metadata": {
  "kernelspec": {
   "display_name": "Python 3",
   "language": "python",
   "name": "python3"
  },
  "language_info": {
   "codemirror_mode": {
    "name": "ipython",
    "version": 3
   },
   "file_extension": ".py",
   "mimetype": "text/x-python",
   "name": "python",
   "nbconvert_exporter": "python",
   "pygments_lexer": "ipython3",
   "version": "3.12.2"
  }
 },
 "nbformat": 4,
 "nbformat_minor": 2
}
