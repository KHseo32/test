{
 "cells": [
  {
   "cell_type": "code",
   "execution_count": 1,
   "metadata": {},
   "outputs": [],
   "source": [
    "import time\n",
    "import os\n",
    "from selenium import webdriver\n",
    "from bs4 import BeautifulSoup as bs\n",
    "import requests\n",
    "import urllib.request"
   ]
  },
  {
   "cell_type": "code",
   "execution_count": 10,
   "metadata": {},
   "outputs": [],
   "source": [
    "\n",
    "driver = webdriver.Chrome()\n",
    "url = f\"https://gababa.co.kr/category/%EC%95%84%EC%9A%B0%ED%84%B0/206/?page=1\"\n",
    "driver.get(url)\n",
    "time.sleep(2)\n"
   ]
  },
  {
   "cell_type": "code",
   "execution_count": 11,
   "metadata": {},
   "outputs": [],
   "source": [
    "soup = bs(driver.page_source, 'html.parser')"
   ]
  },
  {
   "cell_type": "code",
   "execution_count": null,
   "metadata": {},
   "outputs": [],
   "source": [
    "img_tags = soup.select()"
   ]
  },
  {
   "cell_type": "code",
   "execution_count": 9,
   "metadata": {},
   "outputs": [
    {
     "name": "stdout",
     "output_type": "stream",
     "text": [
      "페이지 1에서 0개의 썸네일 이미지를 다운로드했습니다.\n",
      "페이지 2에서 0개의 썸네일 이미지를 다운로드했습니다.\n",
      "페이지 3에서 0개의 썸네일 이미지를 다운로드했습니다.\n",
      "페이지 4에서 0개의 썸네일 이미지를 다운로드했습니다.\n",
      "페이지 5에서 0개의 썸네일 이미지를 다운로드했습니다.\n",
      "페이지 6에서 0개의 썸네일 이미지를 다운로드했습니다.\n",
      "페이지 7에서 0개의 썸네일 이미지를 다운로드했습니다.\n"
     ]
    }
   ],
   "source": [
    "# import time\n",
    "# import os\n",
    "# from selenium import webdriver\n",
    "# from bs4 import BeautifulSoup as bs\n",
    "# import requests\n",
    "\n",
    "# # 웹 드라이버 로드\n",
    "# driver = webdriver.Chrome()\n",
    "\n",
    "# # 이미지 저장 폴더 생성 (필요한 경우)\n",
    "# if not os.path.exists(\"outers\"):\n",
    "#     os.makedirs(\"outers\")\n",
    "\n",
    "# for i in range(1, 8):  # Loop from page 1 to page 8\n",
    "#     # 웹 페이지 URL 설정\n",
    "#     url = f\"https://gababa.co.kr/category/%EC%95%84%EC%9A%B0%ED%84%B0/206/?page={i}\"\n",
    "    \n",
    "#     # 페이지 내용 가져오기\n",
    "#     driver.get(url)\n",
    "#     time.sleep(2)  # 페이지가 로드될 때까지 잠시 기다림\n",
    "    \n",
    "#     # BeautifulSoup으로 페이지 파싱\n",
    "#     soup = bs(driver.page_source, 'html.parser')\n",
    "    \n",
    "#     # 이미지 태그 선택\n",
    "#     img_tags = soup.select(\"div.prd img.hover-thumb\")\n",
    "    \n",
    "#     # 이미지 다운로드\n",
    "#     for j, img_tag in enumerate(img_tags):\n",
    "#         src = img_tag.get(\"data-src\") or img_tag.get(\"src\")  # Use data-src if available, otherwise use src\n",
    "#         if src:\n",
    "#             # URL에 scheme이 없는 경우 처리\n",
    "#             if not src.startswith(\"http\"):\n",
    "#                 src = \"https:\" + src  # Add the base URL\n",
    "#             # 이미지 파일명 설정\n",
    "#             filename = f\"outers/outer_page_{i}_{j+1}.png\"\n",
    "#             # 이미지 다운로드\n",
    "#             with open(filename, \"wb\") as f:\n",
    "#                 f.write(requests.get(src).content)\n",
    "#             print(f\"다운로드 완료: {filename}\")\n",
    "#         else:\n",
    "#             print(\"이미지 소스를 찾을 수 없습니다.\")\n",
    "    \n",
    "#     print(f\"페이지 {i}에서 {len(img_tags)}개의 썸네일 이미지를 다운로드했습니다.\")\n",
    "\n",
    "# # 웹 드라이버 종료\n",
    "# driver.quit()\n"
   ]
  }
 ],
 "metadata": {
  "kernelspec": {
   "display_name": "Python 3",
   "language": "python",
   "name": "python3"
  },
  "language_info": {
   "codemirror_mode": {
    "name": "ipython",
    "version": 3
   },
   "file_extension": ".py",
   "mimetype": "text/x-python",
   "name": "python",
   "nbconvert_exporter": "python",
   "pygments_lexer": "ipython3",
   "version": "3.12.2"
  }
 },
 "nbformat": 4,
 "nbformat_minor": 2
}
