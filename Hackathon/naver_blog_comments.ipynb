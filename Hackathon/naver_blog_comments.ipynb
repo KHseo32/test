{
 "cells": [
  {
   "cell_type": "code",
   "execution_count": 19,
   "metadata": {},
   "outputs": [],
   "source": [
    "from selenium import webdriver\n",
    "from selenium.webdriver.common.by import By\n",
    "from selenium.webdriver.support.ui import WebDriverWait\n",
    "from selenium.webdriver.support import expected_conditions as EC\n",
    "import pandas as pd\n"
   ]
  },
  {
   "cell_type": "code",
   "execution_count": 30,
   "metadata": {},
   "outputs": [
    {
     "ename": "TimeoutException",
     "evalue": "Message: \nStacktrace:\n\tGetHandleVerifier [0x00007FF7A1F87032+63090]\n\t(No symbol) [0x00007FF7A1EF2C82]\n\t(No symbol) [0x00007FF7A1D8EC65]\n\t(No symbol) [0x00007FF7A1DD499D]\n\t(No symbol) [0x00007FF7A1DD4ADC]\n\t(No symbol) [0x00007FF7A1E15B37]\n\t(No symbol) [0x00007FF7A1DF701F]\n\t(No symbol) [0x00007FF7A1E13412]\n\t(No symbol) [0x00007FF7A1DF6D83]\n\t(No symbol) [0x00007FF7A1DC83A8]\n\t(No symbol) [0x00007FF7A1DC9441]\n\tGetHandleVerifier [0x00007FF7A23825AD+4238317]\n\tGetHandleVerifier [0x00007FF7A23BF70D+4488525]\n\tGetHandleVerifier [0x00007FF7A23B79EF+4456495]\n\tGetHandleVerifier [0x00007FF7A2060576+953270]\n\t(No symbol) [0x00007FF7A1EFE54F]\n\t(No symbol) [0x00007FF7A1EF9224]\n\t(No symbol) [0x00007FF7A1EF935B]\n\t(No symbol) [0x00007FF7A1EE9B94]\n\tBaseThreadInitThunk [0x00007FFA9AB0257D+29]\n\tRtlUserThreadStart [0x00007FFA9B38AA48+40]\n",
     "output_type": "error",
     "traceback": [
      "\u001b[1;31m---------------------------------------------------------------------------\u001b[0m",
      "\u001b[1;31mTimeoutException\u001b[0m                          Traceback (most recent call last)",
      "Cell \u001b[1;32mIn[30], line 46\u001b[0m\n\u001b[0;32m     43\u001b[0m output_file \u001b[38;5;241m=\u001b[39m \u001b[38;5;28minput\u001b[39m(\u001b[38;5;124m\"\u001b[39m\u001b[38;5;124mEnter the output Excel file name (e.g., comments.xlsx): \u001b[39m\u001b[38;5;124m\"\u001b[39m)\n\u001b[0;32m     45\u001b[0m \u001b[38;5;66;03m# Extract comments\u001b[39;00m\n\u001b[1;32m---> 46\u001b[0m comments \u001b[38;5;241m=\u001b[39m \u001b[43mextract_comments\u001b[49m\u001b[43m(\u001b[49m\u001b[43mblog_url\u001b[49m\u001b[43m)\u001b[49m\n\u001b[0;32m     48\u001b[0m \u001b[38;5;28;01mif\u001b[39;00m comments:\n\u001b[0;32m     49\u001b[0m     \u001b[38;5;66;03m# Save comments to Excel\u001b[39;00m\n\u001b[0;32m     50\u001b[0m     save_to_excel(comments, output_file)\n",
      "Cell \u001b[1;32mIn[30], line 14\u001b[0m, in \u001b[0;36mextract_comments\u001b[1;34m(blog_url)\u001b[0m\n\u001b[0;32m     10\u001b[0m driver\u001b[38;5;241m.\u001b[39mget(blog_url)\n\u001b[0;32m     12\u001b[0m \u001b[38;5;28;01mtry\u001b[39;00m:\n\u001b[0;32m     13\u001b[0m     \u001b[38;5;66;03m# Wait for the comment section button to be clickable\u001b[39;00m\n\u001b[1;32m---> 14\u001b[0m     comment_button \u001b[38;5;241m=\u001b[39m \u001b[43mWebDriverWait\u001b[49m\u001b[43m(\u001b[49m\u001b[43mdriver\u001b[49m\u001b[43m,\u001b[49m\u001b[43m \u001b[49m\u001b[38;5;241;43m10\u001b[39;49m\u001b[43m)\u001b[49m\u001b[38;5;241;43m.\u001b[39;49m\u001b[43muntil\u001b[49m\u001b[43m(\u001b[49m\u001b[43mEC\u001b[49m\u001b[38;5;241;43m.\u001b[39;49m\u001b[43melement_to_be_clickable\u001b[49m\u001b[43m(\u001b[49m\u001b[43m(\u001b[49m\u001b[43mBy\u001b[49m\u001b[38;5;241;43m.\u001b[39;49m\u001b[43mCLASS_NAME\u001b[49m\u001b[43m,\u001b[49m\u001b[43m \u001b[49m\u001b[38;5;124;43m'\u001b[39;49m\u001b[38;5;124;43marea_comment pcol2\u001b[39;49m\u001b[38;5;124;43m'\u001b[39;49m\u001b[43m)\u001b[49m\u001b[43m)\u001b[49m\u001b[43m)\u001b[49m\n\u001b[0;32m     16\u001b[0m     \u001b[38;5;66;03m# Click on the comment section button to load comments\u001b[39;00m\n\u001b[0;32m     17\u001b[0m     comment_button\u001b[38;5;241m.\u001b[39mclick()\n",
      "File \u001b[1;32mc:\\Users\\skh13\\AppData\\Local\\Programs\\Python\\Python312\\Lib\\site-packages\\selenium\\webdriver\\support\\wait.py:105\u001b[0m, in \u001b[0;36mWebDriverWait.until\u001b[1;34m(self, method, message)\u001b[0m\n\u001b[0;32m    103\u001b[0m     \u001b[38;5;28;01mif\u001b[39;00m time\u001b[38;5;241m.\u001b[39mmonotonic() \u001b[38;5;241m>\u001b[39m end_time:\n\u001b[0;32m    104\u001b[0m         \u001b[38;5;28;01mbreak\u001b[39;00m\n\u001b[1;32m--> 105\u001b[0m \u001b[38;5;28;01mraise\u001b[39;00m TimeoutException(message, screen, stacktrace)\n",
      "\u001b[1;31mTimeoutException\u001b[0m: Message: \nStacktrace:\n\tGetHandleVerifier [0x00007FF7A1F87032+63090]\n\t(No symbol) [0x00007FF7A1EF2C82]\n\t(No symbol) [0x00007FF7A1D8EC65]\n\t(No symbol) [0x00007FF7A1DD499D]\n\t(No symbol) [0x00007FF7A1DD4ADC]\n\t(No symbol) [0x00007FF7A1E15B37]\n\t(No symbol) [0x00007FF7A1DF701F]\n\t(No symbol) [0x00007FF7A1E13412]\n\t(No symbol) [0x00007FF7A1DF6D83]\n\t(No symbol) [0x00007FF7A1DC83A8]\n\t(No symbol) [0x00007FF7A1DC9441]\n\tGetHandleVerifier [0x00007FF7A23825AD+4238317]\n\tGetHandleVerifier [0x00007FF7A23BF70D+4488525]\n\tGetHandleVerifier [0x00007FF7A23B79EF+4456495]\n\tGetHandleVerifier [0x00007FF7A2060576+953270]\n\t(No symbol) [0x00007FF7A1EFE54F]\n\t(No symbol) [0x00007FF7A1EF9224]\n\t(No symbol) [0x00007FF7A1EF935B]\n\t(No symbol) [0x00007FF7A1EE9B94]\n\tBaseThreadInitThunk [0x00007FFA9AB0257D+29]\n\tRtlUserThreadStart [0x00007FFA9B38AA48+40]\n"
     ]
    }
   ],
   "source": [
    "from selenium import webdriver\n",
    "from selenium.webdriver.common.by import By\n",
    "from selenium.webdriver.support.ui import WebDriverWait\n",
    "from selenium.webdriver.support import expected_conditions as EC\n",
    "import pandas as pd\n",
    "\n",
    "def extract_comments(blog_url):\n",
    "    # Initialize Chrome WebDriver\n",
    "    driver = webdriver.Chrome()\n",
    "    driver.get(blog_url)\n",
    "\n",
    "    try:\n",
    "        # Wait for the comment section button to be clickable\n",
    "        comment_button = WebDriverWait(driver, 10).until(EC.element_to_be_clickable((By.ID, 'Comi223418223919')))\n",
    "        \n",
    "        # Click on the comment section button to load comments\n",
    "        comment_button.click()\n",
    "\n",
    "        # Wait for comments to load\n",
    "        WebDriverWait(driver, 10).until(EC.presence_of_element_located((By.CLASS_NAME, 'u_cbox_comment_box')))\n",
    "\n",
    "        # Find all comment elements\n",
    "        comment_elements = driver.find_elements(By.CLASS_NAME, 'u_cbox_contents')\n",
    "\n",
    "        # Extract comment text\n",
    "        comments = [comment.text.strip() for comment in comment_elements]\n",
    "    finally:\n",
    "        # Close the WebDriver\n",
    "        driver.quit()\n",
    "\n",
    "    return comments\n",
    "\n",
    "def save_to_excel(comments, output_file):\n",
    "    df = pd.DataFrame({'Comments': comments})\n",
    "    df.to_excel(output_file, index=False)\n",
    "    print(\"Comments saved to\", output_file)\n",
    "\n",
    "if __name__ == \"__main__\":\n",
    "    # Naver blog URL\n",
    "    blog_url = input(\"Enter the Naver blog URL: \")\n",
    "\n",
    "    # Output Excel file name\n",
    "    output_file = input(\"Enter the output Excel file name (e.g., comments.xlsx): \")\n",
    "\n",
    "    # Extract comments\n",
    "    comments = extract_comments(blog_url)\n",
    "\n",
    "    if comments:\n",
    "        # Save comments to Excel\n",
    "        save_to_excel(comments, output_file)\n",
    "    else:\n",
    "        print(\"No comments found or timeout occurred.\")\n"
   ]
  },
  {
   "cell_type": "code",
   "execution_count": null,
   "metadata": {},
   "outputs": [],
   "source": []
  }
 ],
 "metadata": {
  "kernelspec": {
   "display_name": "Python 3",
   "language": "python",
   "name": "python3"
  },
  "language_info": {
   "codemirror_mode": {
    "name": "ipython",
    "version": 3
   },
   "file_extension": ".py",
   "mimetype": "text/x-python",
   "name": "python",
   "nbconvert_exporter": "python",
   "pygments_lexer": "ipython3",
   "version": "3.12.2"
  }
 },
 "nbformat": 4,
 "nbformat_minor": 2
}
