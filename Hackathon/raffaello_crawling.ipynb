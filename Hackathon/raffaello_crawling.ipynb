{
 "cells": [
  {
   "cell_type": "code",
   "execution_count": 4,
   "metadata": {},
   "outputs": [],
   "source": [
    "import time\n",
    "import os\n",
    "from selenium import webdriver\n",
    "from selenium.webdriver.common.keys import Keys\n",
    "from selenium.webdriver.common.by import By\n",
    "from selenium.webdriver.support.ui import WebDriverWait\n",
    "from selenium.webdriver.support import expected_conditions as EC\n",
    "from bs4 import BeautifulSoup as bs\n",
    "import requests\n",
    "import urllib.request"
   ]
  },
  {
   "cell_type": "code",
   "execution_count": 5,
   "metadata": {},
   "outputs": [],
   "source": [
    "from fake_useragent import UserAgent\n",
    "\n",
    "# Create the 'top' directory if it doesn't exist\n",
    "os.makedirs('./top', exist_ok=True)\n",
    "\n",
    "# Configure Chrome options\n",
    "chrome_options = webdriver.ChromeOptions()\n",
    "chrome_options.add_argument('--ignore-certificate-errors')\n",
    "chrome_options.add_argument('--ignore-ssl-errors')\n",
    "chrome_options.add_argument('--disable-blink-features=AutomationControlled')\n",
    "chrome_options.add_argument('--disable-popup-blocking')\n",
    "chrome_options.add_argument('--disable-notifications')\n",
    "\n",
    "# Set a custom User-Agent header using fake-useragent\n",
    "ua = UserAgent()\n",
    "user_agent = ua.random\n",
    "chrome_options.add_argument(f'user-agent={user_agent}')\n",
    "\n",
    "# Initialize Chrome WebDriver with configured options\n",
    "driver = webdriver.Chrome(options=chrome_options)\n",
    "\n",
    "# Load the initial page\n",
    "url = \"https://www.celine.com/ko-kr/celine-%EB%82%A8%EC%84%B1/%EC%9D%98%EB%A5%98/%EC%85%94%EC%B8%A0/?nav=E0011\"\n",
    "driver.get(url)\n",
    "time.sleep(5)  # Wait for page to fully load\n",
    "\n",
    "# Accept cookies\n",
    "try:\n",
    "    accept_cookies_button = WebDriverWait(driver, 10).until(EC.element_to_be_clickable((By.XPATH, '//*[@id=\"onetrust-accept-btn-handler\"]')))\n",
    "    accept_cookies_button.click()\n",
    "except Exception as e:\n",
    "    print(\"Failed to accept cookies:\", e)"
   ]
  },
  {
   "cell_type": "code",
   "execution_count": null,
   "metadata": {},
   "outputs": [],
   "source": [
    "ul_list = soup.find_all('div', attrs={\n",
    "    'class' : 'layout-content layout-catalog-content--full'\n",
    "})"
   ]
  }
 ],
 "metadata": {
  "kernelspec": {
   "display_name": "Python 3",
   "language": "python",
   "name": "python3"
  },
  "language_info": {
   "codemirror_mode": {
    "name": "ipython",
    "version": 3
   },
   "file_extension": ".py",
   "mimetype": "text/x-python",
   "name": "python",
   "nbconvert_exporter": "python",
   "pygments_lexer": "ipython3",
   "version": "3.12.2"
  }
 },
 "nbformat": 4,
 "nbformat_minor": 2
}
