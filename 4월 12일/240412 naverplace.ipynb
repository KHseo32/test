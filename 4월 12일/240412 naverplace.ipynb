{
 "cells": [
  {
   "cell_type": "code",
   "execution_count": 1,
   "metadata": {},
   "outputs": [],
   "source": [
    "from selenium import webdriver\n",
    "from selenium.webdriver.common.by import By\n",
    "from selenium.webdriver.common.keys import Keys"
   ]
  },
  {
   "cell_type": "code",
   "execution_count": 2,
   "metadata": {},
   "outputs": [],
   "source": [
    "driver = webdriver.Chrome()"
   ]
  },
  {
   "cell_type": "code",
   "execution_count": 3,
   "metadata": {},
   "outputs": [],
   "source": [
    "driver.get('https://m.naver.com')"
   ]
  },
  {
   "cell_type": "code",
   "execution_count": 4,
   "metadata": {},
   "outputs": [],
   "source": [
    "# element2 = driver.find_element(By.ID, 'query')\n",
    "# element2.send_keys('아이패드')"
   ]
  },
  {
   "cell_type": "code",
   "execution_count": 5,
   "metadata": {},
   "outputs": [],
   "source": [
    "# element2.send_keys(Keys.ENTER)"
   ]
  },
  {
   "cell_type": "code",
   "execution_count": 6,
   "metadata": {},
   "outputs": [],
   "source": [
    "# element3 = driver.find_element(By.XPATH, '//*[@id=\"main_pack\"]/section[2]/div[1]/div[4]/a')"
   ]
  },
  {
   "cell_type": "code",
   "execution_count": 7,
   "metadata": {},
   "outputs": [],
   "source": [
    "# element3.click()"
   ]
  },
  {
   "cell_type": "code",
   "execution_count": 8,
   "metadata": {},
   "outputs": [],
   "source": [
    "# ## 태그 선택\n",
    "# element = driver.find_element(By.XPATH,\n",
    "#                               '//*[@id=\"shortcutArea\"]/ul/li[4]/a')"
   ]
  },
  {
   "cell_type": "code",
   "execution_count": 9,
   "metadata": {},
   "outputs": [],
   "source": [
    "# element.click()"
   ]
  },
  {
   "cell_type": "code",
   "execution_count": 10,
   "metadata": {},
   "outputs": [],
   "source": [
    "# tab 이동\n",
    "# driver.window_handles\n",
    "# driver.switch_to.window(driver.window_handles[1])"
   ]
  },
  {
   "cell_type": "code",
   "execution_count": 11,
   "metadata": {},
   "outputs": [],
   "source": [
    "# pop_up_element = driver.find_element(By.XPATH,\n",
    "#                     '//*[@id=\"__next\"]/div/div[1]/div/div/div[2]/div[2]/div/div/div/div/div[2]/button[2]')"
   ]
  },
  {
   "cell_type": "code",
   "execution_count": 12,
   "metadata": {},
   "outputs": [],
   "source": [
    "# pop_up_element.click()"
   ]
  },
  {
   "cell_type": "code",
   "execution_count": 13,
   "metadata": {},
   "outputs": [],
   "source": [
    "# search_element = driver.find_element(By.CLASS_NAME,'_searchInput_search_text_3CUDs')"
   ]
  },
  {
   "cell_type": "code",
   "execution_count": 14,
   "metadata": {},
   "outputs": [],
   "source": [
    "# search_element.send_keys('아이패드')"
   ]
  },
  {
   "cell_type": "code",
   "execution_count": 17,
   "metadata": {},
   "outputs": [],
   "source": [
    "element = driver.find_element(By.ID, 'MM_SEARCH_FAKE')"
   ]
  },
  {
   "cell_type": "code",
   "execution_count": 18,
   "metadata": {},
   "outputs": [],
   "source": [
    "element.send_keys('구로디지털 맛집')"
   ]
  },
  {
   "cell_type": "code",
   "execution_count": 19,
   "metadata": {},
   "outputs": [],
   "source": [
    "search_ele = driver.find_element(By.XPATH, '//*[@id=\"sch_w\"]/div/form/button/span[1]')"
   ]
  },
  {
   "cell_type": "code",
   "execution_count": 20,
   "metadata": {},
   "outputs": [],
   "source": [
    "search_ele.click()"
   ]
  },
  {
   "cell_type": "code",
   "execution_count": 21,
   "metadata": {},
   "outputs": [],
   "source": [
    "element2 = driver.find_element(By.XPATH, '//*[@id=\"place-main-section-root\"]/div/div[2]/a')"
   ]
  },
  {
   "cell_type": "code",
   "execution_count": 22,
   "metadata": {},
   "outputs": [],
   "source": [
    "element2.click()"
   ]
  },
  {
   "cell_type": "code",
   "execution_count": 23,
   "metadata": {},
   "outputs": [
    {
     "data": {
      "text/plain": [
       "104"
      ]
     },
     "execution_count": 23,
     "metadata": {},
     "output_type": "execute_result"
    }
   ],
   "source": [
    "len(driver.find_elements(By.CLASS_NAME,'UEzoS'))"
   ]
  },
  {
   "cell_type": "code",
   "execution_count": 24,
   "metadata": {},
   "outputs": [],
   "source": [
    "store = driver.find_element(By.CLASS_NAME,'UEzoS')"
   ]
  },
  {
   "cell_type": "code",
   "execution_count": 25,
   "metadata": {},
   "outputs": [],
   "source": [
    "store.click()"
   ]
  },
  {
   "cell_type": "code",
   "execution_count": 26,
   "metadata": {},
   "outputs": [],
   "source": [
    "review_button = driver.find_element(By.XPATH, '//*[@id=\"app-root\"]/div/div/div/div[4]/div/div/div/div/a[4]/span')"
   ]
  },
  {
   "cell_type": "code",
   "execution_count": 27,
   "metadata": {},
   "outputs": [],
   "source": [
    "review_button.click()"
   ]
  },
  {
   "cell_type": "code",
   "execution_count": 28,
   "metadata": {},
   "outputs": [],
   "source": [
    "review_add = driver.find_element(By.CLASS_NAME, 'fvwqf')"
   ]
  },
  {
   "cell_type": "code",
   "execution_count": 29,
   "metadata": {},
   "outputs": [],
   "source": [
    "import time"
   ]
  },
  {
   "cell_type": "code",
   "execution_count": 30,
   "metadata": {},
   "outputs": [],
   "source": [
    "for i in range(3):\n",
    "    review_add.click()\n",
    "    # 5초 대기 \n",
    "    time.sleep(5)"
   ]
  },
  {
   "cell_type": "code",
   "execution_count": 31,
   "metadata": {},
   "outputs": [],
   "source": [
    "from bs4 import BeautifulSoup as bs"
   ]
  },
  {
   "cell_type": "code",
   "execution_count": 32,
   "metadata": {},
   "outputs": [],
   "source": [
    "soup = bs(driver.page_source, 'html.parser')"
   ]
  },
  {
   "cell_type": "code",
   "execution_count": 33,
   "metadata": {},
   "outputs": [],
   "source": [
    "# li 태그중 class가 owAeM인 모든 태그를 찾는다. \n",
    "li_list = soup.find_all('li', attrs={\n",
    "    'class' : 'owAeM'\n",
    "})"
   ]
  },
  {
   "cell_type": "code",
   "execution_count": 34,
   "metadata": {},
   "outputs": [],
   "source": [
    "li_data = li_list[0]"
   ]
  },
  {
   "cell_type": "code",
   "execution_count": 35,
   "metadata": {},
   "outputs": [],
   "source": [
    "review_data = li_data.find('span', attrs={\n",
    "    'class' : 'zPfVt'\n",
    "}).get_text()"
   ]
  },
  {
   "cell_type": "code",
   "execution_count": 36,
   "metadata": {},
   "outputs": [],
   "source": [
    "div_data = li_data.find_all('div', attrs={\n",
    "    'class' : 'VAvOk'\n",
    "})"
   ]
  },
  {
   "cell_type": "code",
   "execution_count": 37,
   "metadata": {},
   "outputs": [],
   "source": [
    "## list_data에서 이미지 주소 출력\n",
    "img_list = li_data.find_all('img')"
   ]
  },
  {
   "cell_type": "code",
   "execution_count": 38,
   "metadata": {},
   "outputs": [
    {
     "name": "stdout",
     "output_type": "stream",
     "text": [
      "https://search.pstatic.net/common/?autoRotate=true&quality=95&type=w250&src=https%3A%2F%2Fmyplace-phinf.pstatic.net%2F20220805_53%2F165969820064332HSP_JPEG%2FScreenshot_20220602-202016_Gallery.jpg\n",
      "https://search.pstatic.net/common/?autoRotate=true&quality=95&type=f&size=480x480&src=https%3A%2F%2Fpup-review-phinf.pstatic.net%2FMjAyNDAxMzBfMTMz%2FMDAxNzA2NjExOTI2OTAw.14BJl0vyACw4eJ4q06ZwUEqSIoR6E-j_yfysP7XJsT8g.BHbs4MenVi6RDk3UpI4H4SRTyNEInKe20XTzKGMQioQg.JPEG%2F20240130_183849.jpg.jpg%3Ftype%3Dw1500_60_sharpen\n",
      "https://search.pstatic.net/common/?autoRotate=true&quality=95&type=f&size=480x480&src=https%3A%2F%2Fpup-review-phinf.pstatic.net%2FMjAyNDAxMzBfOTYg%2FMDAxNzA2NjExOTI2OTc3.QYaSI9bcd23Rq4ES8O68n8iAFcltytG8HaRdXzZzIlIg.ZSsYkCc8Dnh_bT3eNDxk9tpVGn2-riX-9JVac789lJ0g.JPEG%2F20240130_183739.jpg.jpg%3Ftype%3Dw1500_60_sharpen\n",
      "https://search.pstatic.net/common/?autoRotate=true&quality=95&type=f&size=480x480&src=https%3A%2F%2Fpup-review-phinf.pstatic.net%2FMjAyNDAxMzBfMjQg%2FMDAxNzA2NjExOTI3MjI2.dqzTsU77yYspJZPJEqTPpYIhnKoX1W6aQoHsp7_8Vrgg.FX0q2-dNfnY0hQCR9WaQKmJNWQiclPbCo70EximvhbEg.JPEG%2F20240130_185909.jpg.jpg%3Ftype%3Dw1500_60_sharpen\n",
      "https://search.pstatic.net/common/?autoRotate=true&quality=95&type=f&size=480x480&src=https%3A%2F%2Fpup-review-phinf.pstatic.net%2FMjAyNDAxMzBfNTMg%2FMDAxNzA2NjExOTI3Mjcy.f9doHUTxKHYI6mH9I0awPDeIaelzMq8heXF5UNEtJcsg.8aQr8XUjyRa8_AoqRmrm6ZChRQ30RCQgFJPkIe4QM90g.JPEG%2F20240130_190002.jpg.jpg%3Ftype%3Dw1500_60_sharpen\n",
      "https://search.pstatic.net/common/?autoRotate=true&quality=95&type=f&size=480x480&src=https%3A%2F%2Fpup-review-phinf.pstatic.net%2FMjAyNDAxMzBfMTQ3%2FMDAxNzA2NjExOTI3NDA0._Sg4d6_TSoVCvWvm2Sr6RukO9Yv4vAWkitGuEZ-UWx8g.jXDDfGtMOstuEYI5pMcEOdgXySAh2Topd1ps23Ffy3og.JPEG%2F20240130_191944.jpg.jpg%3Ftype%3Dw1500_60_sharpen\n",
      "https://search.pstatic.net/common/?autoRotate=true&quality=95&type=f&size=480x480&src=https%3A%2F%2Fpup-review-phinf.pstatic.net%2FMjAyNDAxMzBfMTI2%2FMDAxNzA2NjExOTI4Mjc4.Jjmpae27E8wmalV3rNxY8ky5mnriX9NvGdqoEBnDA00g.Du93YMHvLtjRYXt0H03lqonzrRqba80jNxjU1v6tnTUg.JPEG%2F20240130_191956.jpg.jpg%3Ftype%3Dw1500_60_sharpen\n",
      "https://search.pstatic.net/common/?autoRotate=true&quality=95&type=f&size=480x480&src=https%3A%2F%2Fpup-review-phinf.pstatic.net%2FMjAyNDAxMzBfMTcg%2FMDAxNzA2NjExOTI4MzEy.XLFjLvFds_0FIHEFRqOlCYl-A159P2OYU4j8qYE6iWog.zwFmwvhBiiBVLjB2-ZEDXduJap1Lk2L2rHite3V9Xkog.JPEG%2F20240130_193329.jpg.jpg%3Ftype%3Dw1500_60_sharpen\n",
      "https://ssl.pstatic.net/static/pup/emoji/face_savoring_food20220119222022.png\n",
      "https://ssl.pstatic.net/static/pup/reactiontype/helpful_44w.png\n"
     ]
    }
   ],
   "source": [
    "for img in img_list:\n",
    "    print(img['src'])"
   ]
  },
  {
   "cell_type": "code",
   "execution_count": 39,
   "metadata": {},
   "outputs": [],
   "source": [
    "import requests\n",
    "import os"
   ]
  },
  {
   "cell_type": "code",
   "execution_count": 40,
   "metadata": {},
   "outputs": [],
   "source": [
    "def image_save(img_path, save_path, filename):\n",
    "    html_data = requests.get(img_path)\n",
    "    imageFile = open(\n",
    "        os.path.join(\n",
    "            save_path,\n",
    "            filename\n",
    "        ),\n",
    "        'wb'\n",
    "    )\n",
    "    # 이미지 데이터 크기 지정\n",
    "    chunk_size = 10000000\n",
    "    for chunk in html_data.iter_content(chunk_size):\n",
    "        imageFile.write(chunk)\n",
    "        imageFile.close()\n",
    "    print('파일 저장 완료')"
   ]
  },
  {
   "cell_type": "code",
   "execution_count": 41,
   "metadata": {},
   "outputs": [
    {
     "name": "stdout",
     "output_type": "stream",
     "text": [
      "파일 저장 완료\n",
      "파일 저장 완료\n",
      "파일 저장 완료\n",
      "파일 저장 완료\n",
      "파일 저장 완료\n",
      "파일 저장 완료\n",
      "파일 저장 완료\n",
      "파일 저장 완료\n",
      "파일 저장 완료\n",
      "파일 저장 완료\n"
     ]
    }
   ],
   "source": [
    "i = 1\n",
    "for img in img_list:\n",
    "    file_name = f'review_{i}.png'\n",
    "    save_path = './img/'\n",
    "    image_save(img['src'], save_path, file_name)\n",
    "    i += 1"
   ]
  }
 ],
 "metadata": {
  "kernelspec": {
   "display_name": "Python 3",
   "language": "python",
   "name": "python3"
  },
  "language_info": {
   "codemirror_mode": {
    "name": "ipython",
    "version": 3
   },
   "file_extension": ".py",
   "mimetype": "text/x-python",
   "name": "python",
   "nbconvert_exporter": "python",
   "pygments_lexer": "ipython3",
   "version": "3.12.2"
  }
 },
 "nbformat": 4,
 "nbformat_minor": 2
}
